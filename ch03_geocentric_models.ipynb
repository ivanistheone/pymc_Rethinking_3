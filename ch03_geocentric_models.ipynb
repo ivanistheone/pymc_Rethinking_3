{
 "cells": [
  {
   "cell_type": "markdown",
   "id": "d40c64fa-06ff-4d85-ae1b-62e2914295b8",
   "metadata": {},
   "source": [
    "# Chapter 3. Geocentric Models"
   ]
  },
  {
   "cell_type": "code",
   "execution_count": null,
   "id": "4866c438-02dd-449c-aecb-38e2a97f0f81",
   "metadata": {},
   "outputs": [],
   "source": []
  }
 ],
 "metadata": {
  "kernelspec": {
   "display_name": "Python 3 (ipykernel)",
   "language": "python",
   "name": "python3"
  },
  "language_info": {
   "codemirror_mode": {
    "name": "ipython",
    "version": 3
   },
   "file_extension": ".py",
   "mimetype": "text/x-python",
   "name": "python",
   "nbconvert_exporter": "python",
   "pygments_lexer": "ipython3",
   "version": "3.9.4"
  }
 },
 "nbformat": 4,
 "nbformat_minor": 5
}
